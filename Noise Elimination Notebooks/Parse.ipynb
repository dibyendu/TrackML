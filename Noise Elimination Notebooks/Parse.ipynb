{
 "cells": [
  {
   "cell_type": "markdown",
   "metadata": {
    "colab_type": "text",
    "id": "bXBusmrp1vaL"
   },
   "source": [
    "# Parse JSON Data"
   ]
  },
  {
   "cell_type": "code",
   "execution_count": null,
   "metadata": {
    "ExecuteTime": {
     "end_time": "2019-07-18T20:15:17.328725Z",
     "start_time": "2019-07-18T20:15:17.321467Z"
    }
   },
   "outputs": [],
   "source": [
    "PATH_PREFIX = '../'\n",
    "DATA_DIR = 'InclusiveEvents_Iteration1/'\n",
    "\n",
    "PARSED_DATA_DIR = 'InclusiveEvents_Iteration1_Parsed/'\n",
    "PARSED_FILE_NAME = PATH_PREFIX + PARSED_DATA_DIR + 'dataset_{:04d}.json'\n",
    "\n",
    "NUMBER_OF_THREADS = 20"
   ]
  },
  {
   "cell_type": "code",
   "execution_count": null,
   "metadata": {
    "ExecuteTime": {
     "end_time": "2019-07-18T20:15:17.542745Z",
     "start_time": "2019-07-18T20:15:17.497171Z"
    },
    "code_folding": [
     7
    ]
   },
   "outputs": [],
   "source": [
    "from __future__ import division\n",
    "import os\n",
    "import bz2\n",
    "import glob\n",
    "import ujson\n",
    "import threading\n",
    "\n",
    "def ParseHits(raw_data):\n",
    "    \n",
    "    def ValidTrack(track, id_map, layer_threshold=3):\n",
    "        valid = [0] * 6\n",
    "        for hit_id in track:\n",
    "            hit = id_map[hit_id]\n",
    "            ind = hit[\"Layer\"] * 2 + hit[\"HalfLayer\"]\n",
    "            valid[ind] = 1\n",
    "\n",
    "        return sum(valid) >= layer_threshold\n",
    "\n",
    "    # prepare matrices index\n",
    "    ZIndex_max = raw_data[\"Events\"][0][\"MetaData\"][\"Layer0\"][\"PixelZIndex_Count\"]\n",
    "    L0Phi_max = raw_data[\"Events\"][0][\"MetaData\"][\"Layer0\"][\"PixelPhiIndexInLayer_Count\"]\n",
    "    L1Phi_max = raw_data[\"Events\"][0][\"MetaData\"][\"Layer1\"][\"PixelPhiIndexInLayer_Count\"]\n",
    "    L2Phi_max = raw_data[\"Events\"][0][\"MetaData\"][\"Layer2\"][\"PixelPhiIndexInLayer_Count\"]\n",
    "    #Phi = L0Phi_max\n",
    "    Phi = 1024\n",
    "    Z = 1024\n",
    "    Phi_ratio = [Phi / L0Phi_max, Phi / L1Phi_max, Phi / L2Phi_max]\n",
    "    Z_ratio = Z / ZIndex_max\n",
    "\n",
    "    dataset = []\n",
    "    for event in raw_data[\"Events\"]:\n",
    "        trigger = event[\"TruthTriggerFlag\"][\"Flags\"][\"D0toPiKInAcceptance\"]\n",
    "        event_id = event[\"MetaData\"][\"EventID\"]\n",
    "        id_map = {}\n",
    "        hL, gthL = [set([]) for _ in range(6)], [set([]) for _ in range(6)]\n",
    "        for hit in event[\"RawHit\"][\"MVTXHits\"]:\n",
    "            # Store hit according to id\n",
    "            id_map[hit[\"ID\"][\"HitSequenceInEvent\"]] = hit[\"ID\"]\n",
    "            hL_ind = hit[\"ID\"][\"Layer\"] * 2 + hit[\"ID\"][\"HalfLayer\"]\n",
    "            hL[hL_ind].add((int(hit[\"ID\"][\"PixelZIndex\"] * Z_ratio), int(hit[\"ID\"][\"PixelPhiIndexInLayer\"] * Phi_ratio[hit[\"ID\"][\"Layer\"]])))\n",
    "            \n",
    "        for track in event[\"TruthHit\"][\"TruthTracks\"]:\n",
    "            if ValidTrack(track[\"HitSequenceInEvent\"], id_map, 3):\n",
    "                for hit_id in track[\"HitSequenceInEvent\"]:\n",
    "                    hit = id_map[hit_id]\n",
    "                    gthL_ind = hit[\"Layer\"] * 2 + hit[\"HalfLayer\"]\n",
    "                    gthL[gthL_ind].add((int(hit[\"PixelZIndex\"] * Z_ratio), int(hit[\"PixelPhiIndexInLayer\"] * Phi_ratio[hit[\"Layer\"]])))\n",
    "        dataset.append({'id': event_id, 'trigger': trigger, 'hL': hL, 'gthL': gthL})\n",
    "\n",
    "    return dataset"
   ]
  },
  {
   "cell_type": "code",
   "execution_count": null,
   "metadata": {
    "ExecuteTime": {
     "end_time": "2019-07-18T20:33:36.158747Z",
     "start_time": "2019-07-18T20:15:17.657348Z"
    },
    "cellView": "form",
    "code_folding": [
     5,
     19,
     28
    ],
    "colab": {},
    "colab_type": "code",
    "id": "tjd3-8PJdK2m",
    "scrolled": false
   },
   "outputs": [],
   "source": [
    "data_dir = sorted(glob.glob(PATH_PREFIX + DATA_DIR + '/*.bz2'))\n",
    "file_number = 1\n",
    "thread_pool = []\n",
    "lock = threading.Lock()\n",
    "\n",
    "def parsing_thread(zip_file, file_number):\n",
    "    lock.acquire()\n",
    "    print('parsing data file {}'.format(os.path.basename(zip_file)))\n",
    "    lock.release()\n",
    "    with open(zip_file) as z:\n",
    "        data = ParseHits(ujson.loads(bz2.decompress(z.read())))\n",
    "    file_name = PARSED_FILE_NAME.format(file_number)\n",
    "    f = open(file_name, 'w')\n",
    "    ujson.dump(data, f)\n",
    "    f.close()\n",
    "    lock.acquire()\n",
    "    print('parsed file written to {}'.format(file_name))\n",
    "    lock.release()\n",
    "    \n",
    "for zip_file in data_dir:\n",
    "    if len(thread_pool) == NUMBER_OF_THREADS:\n",
    "        thread = thread_pool.pop(0)\n",
    "        thread.join()\n",
    "    new_thread = threading.Thread(target=parsing_thread, args=(zip_file, file_number))\n",
    "    thread_pool.append(new_thread)\n",
    "    new_thread.start()\n",
    "    file_number += 1\n",
    "\n",
    "for thread in thread_pool:    \n",
    "    thread.join()"
   ]
  }
 ],
 "metadata": {
  "colab": {
   "collapsed_sections": [],
   "name": "shortest_path.ipynb",
   "provenance": [],
   "toc_visible": true,
   "version": "0.3.2"
  },
  "kernelspec": {
   "display_name": "Python 2",
   "language": "python",
   "name": "python2"
  },
  "language_info": {
   "codemirror_mode": {
    "name": "ipython",
    "version": 2
   },
   "file_extension": ".py",
   "mimetype": "text/x-python",
   "name": "python",
   "nbconvert_exporter": "python",
   "pygments_lexer": "ipython2",
   "version": "2.7.15+"
  },
  "varInspector": {
   "cols": {
    "lenName": 16,
    "lenType": 16,
    "lenVar": 40
   },
   "kernels_config": {
    "python": {
     "delete_cmd_postfix": "",
     "delete_cmd_prefix": "del ",
     "library": "var_list.py",
     "varRefreshCmd": "print(var_dic_list())"
    },
    "r": {
     "delete_cmd_postfix": ") ",
     "delete_cmd_prefix": "rm(",
     "library": "var_list.r",
     "varRefreshCmd": "cat(var_dic_list()) "
    }
   },
   "oldHeight": 122,
   "position": {
    "height": "154px",
    "left": "1078px",
    "right": "20px",
    "top": "111px",
    "width": "353px"
   },
   "types_to_exclude": [
    "module",
    "function",
    "builtin_function_or_method",
    "instance",
    "_Feature"
   ],
   "varInspector_section_display": "block",
   "window_display": false
  }
 },
 "nbformat": 4,
 "nbformat_minor": 1
}
